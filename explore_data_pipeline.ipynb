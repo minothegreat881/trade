{
 "cells": [
  {
   "cell_type": "markdown",
   "metadata": {},
   "source": [
    "# 🚀 ML Trading System - Interaktívna Explorácia Dát\n",
    "\n",
    "Tento notebook ti ukáže **krok-po-kroku** čo pipeline robí.\n",
    "\n",
    "Môžeš si:\n",
    "- Pozrieť každý krok pipeline\n",
    "- Vidieť grafy a vizualizácie\n",
    "- Pohrať sa s dátami\n",
    "- Experimentovať s rôznymi tickermi\n",
    "\n",
    "---"
   ]
  },
  {
   "cell_type": "markdown",
   "metadata": {},
   "source": [
    "## 📦 Import knižníc"
   ]
  },
  {
   "cell_type": "code",
   "source": "# 🔧 FIX: Pridaj adresár projektu do Python path\nimport sys\nimport os\n\n# ABSOLÚTNA cesta k projektovému adresáru\nproject_dir = r'C:\\Users\\milan\\Desktop\\Git-Projects\\ml_trading_system'\n\n# Pridaj do Python path\nif project_dir not in sys.path:\n    sys.path.insert(0, project_dir)\n\n# Zmeň working directory na projektový adresár\nos.chdir(project_dir)\n\nprint(f\"✅ Python path nastavený: {project_dir}\")\nprint(f\"✅ Working directory: {os.getcwd()}\")\nprint(f\"✅ Moduly data_collector, feature_engineering, data_validator sú teraz dostupné!\")",
   "metadata": {},
   "execution_count": null,
   "outputs": []
  },
  {
   "cell_type": "code",
   "execution_count": null,
   "metadata": {},
   "outputs": [],
   "source": [
    "import pandas as pd\n",
    "import numpy as np\n",
    "import matplotlib.pyplot as plt\n",
    "import seaborn as sns\n",
    "from datetime import datetime\n",
    "\n",
    "# Naše moduly\n",
    "from data_collector import DataCollector\n",
    "from feature_engineering import FeatureEngineer\n",
    "from data_validator import generate_data_quality_report\n",
    "\n",
    "# Nastavenia pre grafy\n",
    "plt.style.use('seaborn-v0_8-darkgrid')\n",
    "sns.set_palette(\"husl\")\n",
    "%matplotlib inline\n",
    "\n",
    "print(\"✅ Všetky knižnice načítané!\")"
   ]
  },
  {
   "cell_type": "markdown",
   "metadata": {},
   "source": [
    "---\n",
    "\n",
    "## 🎯 KROK 1: Stiahnutie Dát\n",
    "\n",
    "Stiahneme historické dáta pre **SPY** (S&P 500 ETF) z Yahoo Finance.\n",
    "\n",
    "**Môžeš zmeniť:**\n",
    "- `TICKER` na iný ticker (napr. 'QQQ', 'AAPL', 'TSLA')\n",
    "- `START_DATE` a `END_DATE` na iné obdobie"
   ]
  },
  {
   "cell_type": "code",
   "execution_count": null,
   "metadata": {},
   "outputs": [],
   "source": [
    "# ⚙️ KONFIGURÁCIA - MÔŽEŠ ZMENIŤ!\n",
    "TICKER = 'SPY'\n",
    "START_DATE = '2020-01-01'\n",
    "END_DATE = '2024-12-31'\n",
    "\n",
    "print(f\"📊 Sťahujem dáta pre {TICKER} od {START_DATE} do {END_DATE}...\\n\")\n",
    "\n",
    "# Vytvoríme DataCollector\n",
    "collector = DataCollector(TICKER)\n",
    "\n",
    "# Stiahnutie dát\n",
    "df_raw = collector.download_historical(START_DATE, END_DATE)\n",
    "\n",
    "print(f\"\\n✅ Stiahnuté: {len(df_raw)} riadkov\")\n",
    "print(f\"📅 Od: {df_raw.index[0].strftime('%Y-%m-%d')}\")\n",
    "print(f\"📅 Do: {df_raw.index[-1].strftime('%Y-%m-%d')}\")"
   ]
  },
  {
   "cell_type": "markdown",
   "metadata": {},
   "source": [
    "### 👀 Pozrime sa na surové dáta"
   ]
  },
  {
   "cell_type": "code",
   "execution_count": null,
   "metadata": {},
   "outputs": [],
   "source": [
    "# Prvých 10 riadkov\n",
    "print(\"📋 Prvých 10 riadkov:\")\n",
    "df_raw.head(10)"
   ]
  },
  {
   "cell_type": "code",
   "execution_count": null,
   "metadata": {},
   "outputs": [],
   "source": [
    "# Základné štatistiky\n",
    "print(\"📊 Základné štatistiky:\")\n",
    "df_raw.describe()"
   ]
  },
  {
   "cell_type": "markdown",
   "metadata": {},
   "source": [
    "### 📈 Graf 1: Vývoj Ceny (Close Price)"
   ]
  },
  {
   "cell_type": "code",
   "execution_count": null,
   "metadata": {},
   "outputs": [],
   "source": [
    "plt.figure(figsize=(14, 6))\n",
    "plt.plot(df_raw.index, df_raw['Close'], linewidth=2, label='Close Price')\n",
    "plt.title(f'{TICKER} - Vývoj Ceny (2020-2024)', fontsize=16, fontweight='bold')\n",
    "plt.xlabel('Dátum', fontsize=12)\n",
    "plt.ylabel('Cena ($)', fontsize=12)\n",
    "plt.legend(fontsize=12)\n",
    "plt.grid(True, alpha=0.3)\n",
    "plt.tight_layout()\n",
    "plt.show()\n",
    "\n",
    "print(\"💡 Vidíš COVID crash (marec 2020) a následný rast!\")"
   ]
  },
  {
   "cell_type": "markdown",
   "metadata": {},
   "source": [
    "### 📊 Graf 2: Volume (Objem obchodovania)"
   ]
  },
  {
   "cell_type": "code",
   "execution_count": null,
   "metadata": {},
   "outputs": [],
   "source": [
    "plt.figure(figsize=(14, 5))\n",
    "plt.bar(df_raw.index, df_raw['Volume'], width=1.0, alpha=0.7, label='Volume')\n",
    "plt.title(f'{TICKER} - Objem Obchodovania', fontsize=16, fontweight='bold')\n",
    "plt.xlabel('Dátum', fontsize=12)\n",
    "plt.ylabel('Volume', fontsize=12)\n",
    "plt.legend(fontsize=12)\n",
    "plt.grid(True, alpha=0.3)\n",
    "plt.tight_layout()\n",
    "plt.show()\n",
    "\n",
    "print(\"💡 Vysoký volume počas COVID crash = veľa paniky!\")"
   ]
  },
  {
   "cell_type": "markdown",
   "metadata": {},
   "source": [
    "---\n",
    "\n",
    "## 🔧 KROK 2: Vytvorenie Features (príznakov)\n",
    "\n",
    "Teraz vytvoríme **11 technických indikátorov**:\n",
    "\n",
    "### Returns (výnosy):\n",
    "- `return_1d` - 1-dňový výnos\n",
    "- `return_5d` - 5-dňový výnos\n",
    "- `return_10d` - 10-dňový výnos\n",
    "- `return_20d` - 20-dňový výnos\n",
    "\n",
    "### Volatility (volatilita):\n",
    "- `volatility_20d` - 20-dňová volatilita\n",
    "- `volatility_60d` - 60-dňová volatilita\n",
    "\n",
    "### Volume:\n",
    "- `volume_ratio` - pomer voči 20-dňovému priemeru\n",
    "\n",
    "### Price Position:\n",
    "- `price_position` - pozícia ceny v 20-dňovom rozpätí (0-1)\n",
    "\n",
    "### Trend:\n",
    "- `sma_20` - 20-dňový kĺzavý priemer\n",
    "- `sma_50` - 50-dňový kĺzavý priemer\n",
    "- `trend` - 1 ak sma_20 > sma_50 (uptrend)"
   ]
  },
  {
   "cell_type": "code",
   "execution_count": null,
   "metadata": {},
   "outputs": [],
   "source": [
    "print(\"🔧 Vytváram features...\\n\")\n",
    "\n",
    "engineer = FeatureEngineer()\n",
    "df_featured = engineer.create_basic_features(df_raw.copy())\n",
    "\n",
    "print(f\"✅ Vytvorených {len(engineer.get_feature_names())} features!\")\n",
    "print(f\"\\n📋 Features:\")\n",
    "for i, feat in enumerate(engineer.get_feature_names(), 1):\n",
    "    print(f\"  {i}. {feat}\")"
   ]
  },
  {
   "cell_type": "markdown",
   "metadata": {},
   "source": [
    "### 👀 Pozrime sa na features"
   ]
  },
  {
   "cell_type": "code",
   "execution_count": null,
   "metadata": {},
   "outputs": [],
   "source": [
    "# Ukáž prvých 100 riadkov (aby sme videli aj non-NaN hodnoty)\n",
    "print(\"📋 Dáta s features (riadky 60-70, aby sme videli platné hodnoty):\")\n",
    "df_featured[['Close', 'return_1d', 'return_5d', 'volatility_20d', 'volume_ratio', 'trend']].iloc[60:70]"
   ]
  },
  {
   "cell_type": "markdown",
   "metadata": {},
   "source": [
    "### 📊 Graf 3: Returns (výnosy)"
   ]
  },
  {
   "cell_type": "code",
   "execution_count": null,
   "metadata": {},
   "outputs": [],
   "source": [
    "fig, axes = plt.subplots(2, 2, figsize=(16, 10))\n",
    "\n",
    "# 1-day returns\n",
    "axes[0, 0].plot(df_featured.index, df_featured['return_1d'], linewidth=1, alpha=0.7)\n",
    "axes[0, 0].axhline(y=0, color='red', linestyle='--', alpha=0.5)\n",
    "axes[0, 0].set_title('1-Day Returns', fontsize=14, fontweight='bold')\n",
    "axes[0, 0].set_ylabel('Return', fontsize=12)\n",
    "axes[0, 0].grid(True, alpha=0.3)\n",
    "\n",
    "# 5-day returns\n",
    "axes[0, 1].plot(df_featured.index, df_featured['return_5d'], linewidth=1, alpha=0.7)\n",
    "axes[0, 1].axhline(y=0, color='red', linestyle='--', alpha=0.5)\n",
    "axes[0, 1].set_title('5-Day Returns', fontsize=14, fontweight='bold')\n",
    "axes[0, 1].set_ylabel('Return', fontsize=12)\n",
    "axes[0, 1].grid(True, alpha=0.3)\n",
    "\n",
    "# 10-day returns\n",
    "axes[1, 0].plot(df_featured.index, df_featured['return_10d'], linewidth=1, alpha=0.7)\n",
    "axes[1, 0].axhline(y=0, color='red', linestyle='--', alpha=0.5)\n",
    "axes[1, 0].set_title('10-Day Returns', fontsize=14, fontweight='bold')\n",
    "axes[1, 0].set_ylabel('Return', fontsize=12)\n",
    "axes[1, 0].grid(True, alpha=0.3)\n",
    "\n",
    "# 20-day returns\n",
    "axes[1, 1].plot(df_featured.index, df_featured['return_20d'], linewidth=1, alpha=0.7)\n",
    "axes[1, 1].axhline(y=0, color='red', linestyle='--', alpha=0.5)\n",
    "axes[1, 1].set_title('20-Day Returns', fontsize=14, fontweight='bold')\n",
    "axes[1, 1].set_ylabel('Return', fontsize=12)\n",
    "axes[1, 1].grid(True, alpha=0.3)\n",
    "\n",
    "plt.tight_layout()\n",
    "plt.show()\n",
    "\n",
    "print(\"💡 Čím dlhšie obdobie, tým väčšie výkyvy (ale menej častejšie zmeny)\")"
   ]
  },
  {
   "cell_type": "markdown",
   "metadata": {},
   "source": [
    "### 📊 Graf 4: Volatilita"
   ]
  },
  {
   "cell_type": "code",
   "execution_count": null,
   "metadata": {},
   "outputs": [],
   "source": [
    "plt.figure(figsize=(14, 6))\n",
    "plt.plot(df_featured.index, df_featured['volatility_20d'], label='20-day Volatility', linewidth=2)\n",
    "plt.plot(df_featured.index, df_featured['volatility_60d'], label='60-day Volatility', linewidth=2)\n",
    "plt.title('Volatilita (Štandardná odchýlka výnosov)', fontsize=16, fontweight='bold')\n",
    "plt.xlabel('Dátum', fontsize=12)\n",
    "plt.ylabel('Volatilita', fontsize=12)\n",
    "plt.legend(fontsize=12)\n",
    "plt.grid(True, alpha=0.3)\n",
    "plt.tight_layout()\n",
    "plt.show()\n",
    "\n",
    "print(\"💡 Vysoká volatilita v marci 2020 (COVID) a začiatkom 2022 (Bear market)\")"
   ]
  },
  {
   "cell_type": "markdown",
   "metadata": {},
   "source": [
    "### 📊 Graf 5: Trend Indikátory (Moving Averages)"
   ]
  },
  {
   "cell_type": "code",
   "execution_count": null,
   "metadata": {},
   "outputs": [],
   "source": [
    "plt.figure(figsize=(14, 7))\n",
    "plt.plot(df_featured.index, df_featured['Close'], label='Close Price', linewidth=2, alpha=0.7)\n",
    "plt.plot(df_featured.index, df_featured['sma_20'], label='SMA 20', linewidth=2, linestyle='--')\n",
    "plt.plot(df_featured.index, df_featured['sma_50'], label='SMA 50', linewidth=2, linestyle='--')\n",
    "plt.title('Cena a Kĺzavé Priemery (Moving Averages)', fontsize=16, fontweight='bold')\n",
    "plt.xlabel('Dátum', fontsize=12)\n",
    "plt.ylabel('Cena ($)', fontsize=12)\n",
    "plt.legend(fontsize=12)\n",
    "plt.grid(True, alpha=0.3)\n",
    "plt.tight_layout()\n",
    "plt.show()\n",
    "\n",
    "print(\"💡 Keď SMA20 > SMA50 = UPTREND (trend = 1)\")\n",
    "print(\"💡 Keď SMA20 < SMA50 = DOWNTREND (trend = 0)\")"
   ]
  },
  {
   "cell_type": "markdown",
   "metadata": {},
   "source": [
    "### 📊 Graf 6: Price Position (Pozícia v rozpätí)"
   ]
  },
  {
   "cell_type": "code",
   "execution_count": null,
   "metadata": {},
   "outputs": [],
   "source": [
    "plt.figure(figsize=(14, 6))\n",
    "plt.plot(df_featured.index, df_featured['price_position'], linewidth=2)\n",
    "plt.axhline(y=0.5, color='red', linestyle='--', alpha=0.5, label='Stred (0.5)')\n",
    "plt.axhline(y=0.8, color='orange', linestyle='--', alpha=0.5, label='Blízko high (0.8)')\n",
    "plt.axhline(y=0.2, color='green', linestyle='--', alpha=0.5, label='Blízko low (0.2)')\n",
    "plt.title('Price Position (Pozícia ceny v 20-dňovom rozpätí)', fontsize=16, fontweight='bold')\n",
    "plt.xlabel('Dátum', fontsize=12)\n",
    "plt.ylabel('Position (0 = low, 1 = high)', fontsize=12)\n",
    "plt.legend(fontsize=12)\n",
    "plt.grid(True, alpha=0.3)\n",
    "plt.tight_layout()\n",
    "plt.show()\n",
    "\n",
    "print(\"💡 Price position = 1 → cena je na 20-dňovom maxime\")\n",
    "print(\"💡 Price position = 0 → cena je na 20-dňovom minime\")"
   ]
  },
  {
   "cell_type": "markdown",
   "metadata": {},
   "source": [
    "---\n",
    "\n",
    "## 🎯 KROK 3: Vytvorenie Target Variable (Cieľová premenná)\n",
    "\n",
    "**Target** = 5-dňový výnos do budúcnosti\n",
    "\n",
    "⚠️ **CRITICAL:** Target je správne posunutý dopredu = **NO LOOK-AHEAD BIAS!**\n",
    "\n",
    "V čase `t` predikujeme výnos od `t` do `t+5`."
   ]
  },
  {
   "cell_type": "code",
   "execution_count": null,
   "metadata": {},
   "outputs": [],
   "source": [
    "HOLDING_PERIOD = 5\n",
    "\n",
    "print(f\"🎯 Vytváram target variable: {HOLDING_PERIOD}-dňový forward return...\\n\")\n",
    "\n",
    "df_featured = engineer.create_target(df_featured, horizon=HOLDING_PERIOD)\n",
    "\n",
    "print(f\"✅ Target vytvorený!\")\n",
    "print(f\"\\n📊 Target statistics:\")\n",
    "print(df_featured['target'].describe())"
   ]
  },
  {
   "cell_type": "markdown",
   "metadata": {},
   "source": [
    "### 🔍 Overenie: Target je naozaj forward return?"
   ]
  },
  {
   "cell_type": "code",
   "execution_count": null,
   "metadata": {},
   "outputs": [],
   "source": [
    "# Vezmime riadok 100 a overíme target manuálne\n",
    "test_idx = 100\n",
    "\n",
    "# Target z modelu\n",
    "target_model = df_featured['target'].iloc[test_idx]\n",
    "\n",
    "# Manuálny výpočet: (Close[t+5] / Close[t]) - 1\n",
    "close_t = df_featured['Close'].iloc[test_idx]\n",
    "close_t5 = df_featured['Close'].iloc[test_idx + 5]\n",
    "target_manual = (close_t5 / close_t) - 1\n",
    "\n",
    "print(f\"🔍 Overenie na riadku {test_idx}:\")\n",
    "print(f\"\\n  Close[t={test_idx}]:     ${close_t:.2f}\")\n",
    "print(f\"  Close[t+5={test_idx+5}]: ${close_t5:.2f}\")\n",
    "print(f\"\\n  Target (model):  {target_model:.6f}\")\n",
    "print(f\"  Target (manuál): {target_manual:.6f}\")\n",
    "print(f\"\\n  ✅ Zhoduje sa: {np.isclose(target_model, target_manual)}\")\n",
    "\n",
    "print(\"\\n💡 Target je správne! Predikujeme BUDÚCI výnos, nie minulý!\")"
   ]
  },
  {
   "cell_type": "markdown",
   "metadata": {},
   "source": [
    "### 📊 Graf 7: Distribúcia Target Variable"
   ]
  },
  {
   "cell_type": "code",
   "execution_count": null,
   "metadata": {},
   "outputs": [],
   "source": [
    "fig, axes = plt.subplots(1, 2, figsize=(16, 5))\n",
    "\n",
    "# Histogram\n",
    "axes[0].hist(df_featured['target'].dropna(), bins=50, edgecolor='black', alpha=0.7)\n",
    "axes[0].axvline(x=0, color='red', linestyle='--', linewidth=2, label='Zero return')\n",
    "axes[0].set_title('Distribúcia 5-Day Forward Returns', fontsize=14, fontweight='bold')\n",
    "axes[0].set_xlabel('Return', fontsize=12)\n",
    "axes[0].set_ylabel('Frequency', fontsize=12)\n",
    "axes[0].legend(fontsize=12)\n",
    "axes[0].grid(True, alpha=0.3)\n",
    "\n",
    "# Time series\n",
    "axes[1].plot(df_featured.index, df_featured['target'], linewidth=1, alpha=0.7)\n",
    "axes[1].axhline(y=0, color='red', linestyle='--', linewidth=2)\n",
    "axes[1].set_title('5-Day Forward Returns Over Time', fontsize=14, fontweight='bold')\n",
    "axes[1].set_xlabel('Dátum', fontsize=12)\n",
    "axes[1].set_ylabel('Target Return', fontsize=12)\n",
    "axes[1].grid(True, alpha=0.3)\n",
    "\n",
    "plt.tight_layout()\n",
    "plt.show()\n",
    "\n",
    "positive_pct = (df_featured['target'].dropna() > 0).sum() / len(df_featured['target'].dropna()) * 100\n",
    "print(f\"💡 {positive_pct:.1f}% období má pozitívny 5-dňový výnos\")"
   ]
  },
  {
   "cell_type": "markdown",
   "metadata": {},
   "source": [
    "---\n",
    "\n",
    "## 🧹 KROK 4: Čistenie Dát (Odstránenie NaN)\n",
    "\n",
    "Prvé riadky majú NaN hodnoty kvôli rolling window features.\n",
    "\n",
    "Napríklad:\n",
    "- `volatility_20d` potrebuje 20 dní histórie\n",
    "- `volatility_60d` potrebuje 60 dní histórie\n",
    "- `target` má NaN na posledných 5 riadkoch (nemáme budúce dáta)"
   ]
  },
  {
   "cell_type": "code",
   "execution_count": null,
   "metadata": {},
   "outputs": [],
   "source": [
    "print(\"🧹 Čistenie dát (odstránenie NaN)...\\n\")\n",
    "\n",
    "rows_before = len(df_featured)\n",
    "print(f\"  Riadkov pred čistením: {rows_before}\")\n",
    "\n",
    "# Odstránime NaN v features a target\n",
    "feature_cols = engineer.get_feature_names()\n",
    "cols_to_check = feature_cols + ['target']\n",
    "df_clean = df_featured.dropna(subset=cols_to_check)\n",
    "\n",
    "rows_after = len(df_clean)\n",
    "rows_lost = rows_before - rows_after\n",
    "\n",
    "print(f\"  Riadkov po čistení:    {rows_after}\")\n",
    "print(f\"  Stratených:            {rows_lost} ({rows_lost/rows_before*100:.1f}%)\")\n",
    "print(f\"\\n✅ Dáta sú čisté!\")"
   ]
  },
  {
   "cell_type": "markdown",
   "metadata": {},
   "source": [
    "---\n",
    "\n",
    "## ✂️ KROK 5: Train/Test Split (Temporálne delenie)\n",
    "\n",
    "**DÔLEŽITÉ:** V time-series **NIKDY** nešaflujem dáta!\n",
    "\n",
    "Train set = Prvých 70% (chronologicky)\n",
    "Test set = Posledných 30% (chronologicky)\n",
    "\n",
    "⚠️ **NO SHUFFLING** - zachovávame časovú postupnosť!"
   ]
  },
  {
   "cell_type": "code",
   "execution_count": null,
   "metadata": {},
   "outputs": [],
   "source": [
    "TRAIN_SPLIT = 0.7\n",
    "\n",
    "print(f\"✂️ Delím dáta na train/test ({int(TRAIN_SPLIT*100)}/{int((1-TRAIN_SPLIT)*100)})...\\n\")\n",
    "\n",
    "# Temporálny split (BEZ shufflovania!)\n",
    "split_idx = int(len(df_clean) * TRAIN_SPLIT)\n",
    "\n",
    "train_df = df_clean.iloc[:split_idx].copy()\n",
    "test_df = df_clean.iloc[split_idx:].copy()\n",
    "\n",
    "print(f\"📊 Train set:\")\n",
    "print(f\"  - Riadkov: {len(train_df)} ({len(train_df)/len(df_clean)*100:.1f}%)\")\n",
    "print(f\"  - Od: {train_df.index[0].strftime('%Y-%m-%d')}\")\n",
    "print(f\"  - Do: {train_df.index[-1].strftime('%Y-%m-%d')}\")\n",
    "\n",
    "print(f\"\\n📊 Test set:\")\n",
    "print(f\"  - Riadkov: {len(test_df)} ({len(test_df)/len(df_clean)*100:.1f}%)\")\n",
    "print(f\"  - Od: {test_df.index[0].strftime('%Y-%m-%d')}\")\n",
    "print(f\"  - Do: {test_df.index[-1].strftime('%Y-%m-%d')}\")\n",
    "\n",
    "# Overenie, že sa neprekrývajú\n",
    "if train_df.index[-1] < test_df.index[0]:\n",
    "    print(f\"\\n✅ Train a test sa neprekrývajú!\")\n",
    "else:\n",
    "    print(f\"\\n❌ CHYBA: Train a test sa prekrývajú!\")"
   ]
  },
  {
   "cell_type": "markdown",
   "metadata": {},
   "source": [
    "### 📊 Graf 8: Train/Test Split Vizualizácia"
   ]
  },
  {
   "cell_type": "code",
   "execution_count": null,
   "metadata": {},
   "outputs": [],
   "source": [
    "plt.figure(figsize=(14, 6))\n",
    "\n",
    "# Train data\n",
    "plt.plot(train_df.index, train_df['Close'], label='Train Data', color='blue', linewidth=2)\n",
    "\n",
    "# Test data\n",
    "plt.plot(test_df.index, test_df['Close'], label='Test Data', color='orange', linewidth=2)\n",
    "\n",
    "# Split line\n",
    "plt.axvline(x=train_df.index[-1], color='red', linestyle='--', linewidth=2, label='Train/Test Split')\n",
    "\n",
    "plt.title('Train/Test Split (Temporálne delenie)', fontsize=16, fontweight='bold')\n",
    "plt.xlabel('Dátum', fontsize=12)\n",
    "plt.ylabel('Close Price ($)', fontsize=12)\n",
    "plt.legend(fontsize=12)\n",
    "plt.grid(True, alpha=0.3)\n",
    "plt.tight_layout()\n",
    "plt.show()\n",
    "\n",
    "print(\"💡 Modrá = dáta na trénovanie modelu\")\n",
    "print(\"💡 Oranžová = dáta na testovanie modelu (nevidené!)\")"
   ]
  },
  {
   "cell_type": "markdown",
   "metadata": {},
   "source": [
    "---\n",
    "\n",
    "## 📊 KROK 6: Analýza Features (Korelácia)\n",
    "\n",
    "Pozrime sa, ktoré features najviac korelujú s targetom."
   ]
  },
  {
   "cell_type": "code",
   "execution_count": null,
   "metadata": {},
   "outputs": [],
   "source": [
    "# Vyberieme len features a target pre train set\n",
    "train_features = train_df[feature_cols + ['target']]\n",
    "\n",
    "# Vypočítame koreláciu s targetom\n",
    "correlations = train_features.corr()['target'].drop('target').sort_values(ascending=False)\n",
    "\n",
    "print(\"📊 Korelácia features s targetom (5-day return):\")\n",
    "print(\"\\n\" + \"=\"*50)\n",
    "for feat, corr in correlations.items():\n",
    "    bar = '█' * int(abs(corr) * 50)\n",
    "    sign = '+' if corr > 0 else '-'\n",
    "    print(f\"{feat:20} {sign} {bar} {corr:.4f}\")\n",
    "print(\"=\"*50)\n",
    "\n",
    "print(\"\\n💡 Čím väčší absolútny korelačný koeficient, tým silnejší vzťah!\")"
   ]
  },
  {
   "cell_type": "markdown",
   "metadata": {},
   "source": [
    "### 📊 Graf 9: Correlation Heatmap"
   ]
  },
  {
   "cell_type": "code",
   "execution_count": null,
   "metadata": {},
   "outputs": [],
   "source": [
    "# Correlation matrix\n",
    "corr_matrix = train_features.corr()\n",
    "\n",
    "plt.figure(figsize=(12, 10))\n",
    "sns.heatmap(corr_matrix, annot=True, fmt='.2f', cmap='coolwarm', center=0, \n",
    "            square=True, linewidths=1, cbar_kws={\"shrink\": 0.8})\n",
    "plt.title('Feature Correlation Matrix', fontsize=16, fontweight='bold')\n",
    "plt.tight_layout()\n",
    "plt.show()\n",
    "\n",
    "print(\"💡 Červená = pozitívna korelácia, Modrá = negatívna korelácia\")"
   ]
  },
  {
   "cell_type": "markdown",
   "metadata": {},
   "source": [
    "---\n",
    "\n",
    "## 🎮 KROK 7: Experimentuj s Dátami!\n",
    "\n",
    "Teraz si môžeš pohrať s dátami. Tu je niekoľko nápadov:\n",
    "\n",
    "### 💡 Nápady na experimenty:\n",
    "\n",
    "1. **Zmeň ticker** - Skús QQQ, AAPL, TSLA\n",
    "2. **Zmeň holding period** - Skús 10-dňový alebo 20-dňový target\n",
    "3. **Porovnaj volatility** - V ktorých obdobiach bola najvyššia?\n",
    "4. **Analyzuj trendy** - Koľko percent času je trh v uptrende?\n",
    "5. **Nájdi najlepší deň** - Ktorý deň mal najvyšší 5-day return?"
   ]
  },
  {
   "cell_type": "markdown",
   "metadata": {},
   "source": [
    "### 🎯 Experiment 1: Najlepšie a najhoršie obdobia"
   ]
  },
  {
   "cell_type": "code",
   "execution_count": null,
   "metadata": {},
   "outputs": [],
   "source": [
    "# Top 10 najlepších 5-day returns\n",
    "print(\"🚀 TOP 10 Najlepších 5-day returns:\")\n",
    "print(\"=\"*60)\n",
    "top_returns = df_clean.nlargest(10, 'target')[['Close', 'target', 'volatility_20d', 'trend']]\n",
    "print(top_returns)\n",
    "\n",
    "print(\"\\n💣 TOP 10 Najhorších 5-day returns:\")\n",
    "print(\"=\"*60)\n",
    "worst_returns = df_clean.nsmallest(10, 'target')[['Close', 'target', 'volatility_20d', 'trend']]\n",
    "print(worst_returns)"
   ]
  },
  {
   "cell_type": "markdown",
   "metadata": {},
   "source": [
    "### 🎯 Experiment 2: Uptrend vs Downtrend"
   ]
  },
  {
   "cell_type": "code",
   "execution_count": null,
   "metadata": {},
   "outputs": [],
   "source": [
    "# Rozdelíme dáta podľa trendu\n",
    "uptrend = df_clean[df_clean['trend'] == 1]\n",
    "downtrend = df_clean[df_clean['trend'] == 0]\n",
    "\n",
    "print(\"📊 Analýza Uptrend vs Downtrend:\")\n",
    "print(\"\\n\" + \"=\"*60)\n",
    "print(f\"\\n🟢 UPTREND (SMA20 > SMA50):\")\n",
    "print(f\"  - Počet dní: {len(uptrend)} ({len(uptrend)/len(df_clean)*100:.1f}%)\")\n",
    "print(f\"  - Priemerný 5-day return: {uptrend['target'].mean():.4f} ({uptrend['target'].mean()*100:.2f}%)\")\n",
    "print(f\"  - Štandardná odchýlka: {uptrend['target'].std():.4f}\")\n",
    "\n",
    "print(f\"\\n🔴 DOWNTREND (SMA20 < SMA50):\")\n",
    "print(f\"  - Počet dní: {len(downtrend)} ({len(downtrend)/len(df_clean)*100:.1f}%)\")\n",
    "print(f\"  - Priemerný 5-day return: {downtrend['target'].mean():.4f} ({downtrend['target'].mean()*100:.2f}%)\")\n",
    "print(f\"  - Štandardná odchýlka: {downtrend['target'].std():.4f}\")\n",
    "print(\"=\"*60)\n",
    "\n",
    "# Vizualizácia\n",
    "fig, axes = plt.subplots(1, 2, figsize=(16, 5))\n",
    "\n",
    "# Histogram pre uptrend\n",
    "axes[0].hist(uptrend['target'], bins=30, alpha=0.7, color='green', edgecolor='black')\n",
    "axes[0].axvline(x=uptrend['target'].mean(), color='red', linestyle='--', linewidth=2, label='Mean')\n",
    "axes[0].set_title('Uptrend: 5-Day Returns', fontsize=14, fontweight='bold')\n",
    "axes[0].set_xlabel('Return', fontsize=12)\n",
    "axes[0].set_ylabel('Frequency', fontsize=12)\n",
    "axes[0].legend()\n",
    "axes[0].grid(True, alpha=0.3)\n",
    "\n",
    "# Histogram pre downtrend\n",
    "axes[1].hist(downtrend['target'], bins=30, alpha=0.7, color='red', edgecolor='black')\n",
    "axes[1].axvline(x=downtrend['target'].mean(), color='blue', linestyle='--', linewidth=2, label='Mean')\n",
    "axes[1].set_title('Downtrend: 5-Day Returns', fontsize=14, fontweight='bold')\n",
    "axes[1].set_xlabel('Return', fontsize=12)\n",
    "axes[1].set_ylabel('Frequency', fontsize=12)\n",
    "axes[1].legend()\n",
    "axes[1].grid(True, alpha=0.3)\n",
    "\n",
    "plt.tight_layout()\n",
    "plt.show()\n",
    "\n",
    "print(\"\\n💡 V uptrende sú vyššie výnosy? Alebo naopak?\")"
   ]
  },
  {
   "cell_type": "markdown",
   "metadata": {},
   "source": [
    "### 🎯 Experiment 3: Vysoká vs Nízka Volatilita"
   ]
  },
  {
   "cell_type": "code",
   "execution_count": null,
   "metadata": {},
   "outputs": [],
   "source": [
    "# Rozdelíme podľa volatility (nad/pod mediánom)\n",
    "median_vol = df_clean['volatility_20d'].median()\n",
    "\n",
    "high_vol = df_clean[df_clean['volatility_20d'] > median_vol]\n",
    "low_vol = df_clean[df_clean['volatility_20d'] <= median_vol]\n",
    "\n",
    "print(f\"📊 Analýza Vysoká vs Nízka Volatilita (medián = {median_vol:.4f}):\")\n",
    "print(\"\\n\" + \"=\"*60)\n",
    "print(f\"\\n⚡ VYSOKÁ VOLATILITA:\")\n",
    "print(f\"  - Počet dní: {len(high_vol)}\")\n",
    "print(f\"  - Priemerný 5-day return: {high_vol['target'].mean():.4f} ({high_vol['target'].mean()*100:.2f}%)\")\n",
    "print(f\"  - Štandardná odchýlka: {high_vol['target'].std():.4f}\")\n",
    "print(f\"  - Max return: {high_vol['target'].max():.4f}\")\n",
    "print(f\"  - Min return: {high_vol['target'].min():.4f}\")\n",
    "\n",
    "print(f\"\\n😌 NÍZKA VOLATILITA:\")\n",
    "print(f\"  - Počet dní: {len(low_vol)}\")\n",
    "print(f\"  - Priemerný 5-day return: {low_vol['target'].mean():.4f} ({low_vol['target'].mean()*100:.2f}%)\")\n",
    "print(f\"  - Štandardná odchýlka: {low_vol['target'].std():.4f}\")\n",
    "print(f\"  - Max return: {low_vol['target'].max():.4f}\")\n",
    "print(f\"  - Min return: {low_vol['target'].min():.4f}\")\n",
    "print(\"=\"*60)\n",
    "\n",
    "print(\"\\n💡 Vysoká volatilita = väčšie príležitosti, ale aj väčšie riziká!\")"
   ]
  },
  {
   "cell_type": "markdown",
   "metadata": {},
   "source": [
    "---\n",
    "\n",
    "## 💾 KROK 8: Ulož Dáta (Ako v Pipeline)\n",
    "\n",
    "Uložíme train a test sety do CSV súborov."
   ]
  },
  {
   "cell_type": "code",
   "execution_count": null,
   "metadata": {},
   "outputs": [],
   "source": [
    "print(\"💾 Ukladám dáta...\\n\")\n",
    "\n",
    "# Vytvor adresáre ak neexistujú\n",
    "import os\n",
    "os.makedirs('data/notebook_output', exist_ok=True)\n",
    "\n",
    "# Ulož train set\n",
    "train_df.to_csv('data/notebook_output/train_data.csv')\n",
    "train_df[feature_cols].to_csv('data/notebook_output/train_X.csv')\n",
    "train_df['target'].to_csv('data/notebook_output/train_y.csv')\n",
    "\n",
    "# Ulož test set\n",
    "test_df.to_csv('data/notebook_output/test_data.csv')\n",
    "test_df[feature_cols].to_csv('data/notebook_output/test_X.csv')\n",
    "test_df['target'].to_csv('data/notebook_output/test_y.csv')\n",
    "\n",
    "print(\"✅ Dáta uložené v data/notebook_output/\")\n",
    "print(\"\\nSúbory:\")\n",
    "print(\"  - train_data.csv, train_X.csv, train_y.csv\")\n",
    "print(\"  - test_data.csv, test_X.csv, test_y.csv\")"
   ]
  },
  {
   "cell_type": "markdown",
   "metadata": {},
   "source": [
    "---\n",
    "\n",
    "## 🎉 HOTOVO!\n",
    "\n",
    "### 🎓 Čo si sa naučil:\n",
    "\n",
    "1. ✅ Ako stiahnuť finančné dáta z Yahoo Finance\n",
    "2. ✅ Ako vytvoriť technické indikátory (returns, volatilita, trendy)\n",
    "3. ✅ Ako vytvoriť target variable bez look-ahead bias\n",
    "4. ✅ Ako správne rozdeliť time-series dáta (temporálne!)\n",
    "5. ✅ Ako analyzovať koreláciu features s targetom\n",
    "6. ✅ Ako vizualizovať finančné dáta\n",
    "\n",
    "### 🚀 Ďalšie kroky:\n",
    "\n",
    "1. **Experimentuj s rôznymi tickermi** - Zmeň `TICKER` na začiatku notebooku\n",
    "2. **Skús rôzne holding periods** - Zmeň `HOLDING_PERIOD`\n",
    "3. **Vytvor vlastné features** - Pridaj nové indikátory do `FeatureEngineer`\n",
    "4. **Začni s ML modelmi** - Ridge Regression, XGBoost (Phase 2)\n",
    "\n",
    "---\n",
    "\n",
    "### 💡 Užitočné tipy:\n",
    "\n",
    "- Spusti celý notebook: `Cell → Run All`\n",
    "- Zmeň parametre na začiatku a spusti znova\n",
    "- Skús rôzne vizualizácie - matplotlib a seaborn sú veľmi silné!\n",
    "\n",
    "---\n",
    "\n",
    "**Have fun exploring! 🎮📊**"
   ]
  }
 ],
 "metadata": {
  "kernelspec": {
   "display_name": "Python 3",
   "language": "python",
   "name": "python3"
  },
  "language_info": {
   "codemirror_mode": {
    "name": "ipython",
    "version": 3
   },
   "file_extension": ".py",
   "mimetype": "text/x-python",
   "name": "python",
   "nbconvert_exporter": "python",
   "pygments_lexer": "ipython3",
   "version": "3.9.0"
  }
 },
 "nbformat": 4,
 "nbformat_minor": 4
}